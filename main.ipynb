{
 "cells": [
  {
   "cell_type": "code",
   "execution_count": 1,
   "metadata": {},
   "outputs": [],
   "source": [
    "import pandas as pd"
   ]
  },
  {
   "cell_type": "code",
   "execution_count": 9,
   "metadata": {},
   "outputs": [],
   "source": [
    "url = 'https://moet.gov.vn/cosogiaoduc/pages/danh-sach.aspx?search=1&field=TinhThanh&asc=False&'\n",
    "sub = lambda x: f'Page={x}'\n"
   ]
  },
  {
   "cell_type": "code",
   "execution_count": 10,
   "metadata": {},
   "outputs": [],
   "source": [
    "data = pd.DataFrame(pd.read_html(url + sub(1))[0])"
   ]
  },
  {
   "cell_type": "code",
   "execution_count": 14,
   "metadata": {},
   "outputs": [],
   "source": [
    "for i in range(2, 23):\n",
    "    tables = pd.read_html(url + sub(i))\n",
    "    data = pd.concat([data, tables[0]], ignore_index=True)"
   ]
  },
  {
   "cell_type": "code",
   "execution_count": 19,
   "metadata": {},
   "outputs": [
    {
     "data": {
      "text/plain": [
       "Tỉnh, thành phố\n",
       "Hà Nội             117\n",
       "TP. Hồ Chí Minh     50\n",
       "Đà Nẵng             13\n",
       "Thừa Thiên Huế      12\n",
       "Thái Nguyên          9\n",
       "Nghệ An              7\n",
       "Bắc Ninh             6\n",
       "Cần Thơ              6\n",
       "Vĩnh Long            5\n",
       "Nam Định             5\n",
       "Bình Dương           5\n",
       "Hải Dương            5\n",
       "Hải Phòng            5\n",
       "Name: count, dtype: int64"
      ]
     },
     "execution_count": 19,
     "metadata": {},
     "output_type": "execute_result"
    }
   ],
   "source": [
    "data['Tỉnh, thành phố'].value_counts()[:13]"
   ]
  }
 ],
 "metadata": {
  "kernelspec": {
   "display_name": "Python 3",
   "language": "python",
   "name": "python3"
  },
  "language_info": {
   "codemirror_mode": {
    "name": "ipython",
    "version": 3
   },
   "file_extension": ".py",
   "mimetype": "text/x-python",
   "name": "python",
   "nbconvert_exporter": "python",
   "pygments_lexer": "ipython3",
   "version": "3.11.6"
  }
 },
 "nbformat": 4,
 "nbformat_minor": 2
}
